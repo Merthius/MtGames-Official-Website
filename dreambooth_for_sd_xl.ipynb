{
  "nbformat": 4,
  "nbformat_minor": 0,
  "metadata": {
    "colab": {
      "provenance": [],
      "gpuType": "T4",
      "authorship_tag": "ABX9TyMDL36HfptChO7lkJ85xmOW",
      "include_colab_link": true
    },
    "kernelspec": {
      "name": "python3",
      "display_name": "Python 3"
    },
    "language_info": {
      "name": "python"
    },
    "accelerator": "GPU"
  },
  "cells": [
    {
      "cell_type": "markdown",
      "metadata": {
        "id": "view-in-github",
        "colab_type": "text"
      },
      "source": [
        "<a href=\"https://colab.research.google.com/github/Merthius/MtGames-Official-Website/blob/main/dreambooth_for_sd_xl.ipynb\" target=\"_parent\"><img src=\"https://colab.research.google.com/assets/colab-badge.svg\" alt=\"Open In Colab\"/></a>"
      ]
    },
    {
      "cell_type": "markdown",
      "source": [
        "# Part 1 - Autotrain-Advanced installieren"
      ],
      "metadata": {
        "id": "mjpOuTWQLxM9"
      }
    },
    {
      "cell_type": "code",
      "execution_count": null,
      "metadata": {
        "id": "wP-1OyU7IO9A"
      },
      "outputs": [],
      "source": [
        "!pip install -U autotrain-advanced"
      ]
    },
    {
      "cell_type": "markdown",
      "source": [
        "# Part 2 - Setup ausführen & Torch aktualisieren"
      ],
      "metadata": {
        "id": "3dkWEGB7L5Oo"
      }
    },
    {
      "cell_type": "code",
      "source": [
        "!autotrain setup --update-torch"
      ],
      "metadata": {
        "id": "2d4Uel4eI4bJ"
      },
      "execution_count": null,
      "outputs": []
    },
    {
      "cell_type": "markdown",
      "source": [
        "# Part 4 - Training beginnen"
      ],
      "metadata": {
        "id": "S_f7CpbZiPPJ"
      }
    },
    {
      "cell_type": "code",
      "source": [
        "#@title Bilder Hochladen\n",
        "import os\n",
        "from google.colab import files\n",
        "\n",
        "# Erstelle den Ordner \"pictures\", falls er nicht existiert\n",
        "pictures_folder = \"/content/pictures\"\n",
        "if not os.path.exists(pictures_folder):\n",
        "    os.makedirs(pictures_folder)\n",
        "\n",
        "uploaded = files.upload()\n",
        "uploaded_files = [\"/content/\" + filename for filename in uploaded.keys()]\n",
        "\n",
        "for uploaded_file_name in uploaded_files:\n",
        "    uploaded_file_name_parts = uploaded_file_name.split(\"/\")\n",
        "    filename = uploaded_file_name_parts[-1]\n",
        "    new_file_path = os.path.join(pictures_folder, filename)\n",
        "    os.rename(uploaded_file_name, new_file_path)\n"
      ],
      "metadata": {
        "id": "nPgkIDdpi74v",
        "cellView": "form"
      },
      "execution_count": null,
      "outputs": []
    },
    {
      "cell_type": "code",
      "source": [
        "#@title Parameter-Einstellungen\n",
        "prompt = \"\" #@param {type:\"string\"}\n",
        "resolution = 512 #@param {type:\"integer\"}\n",
        "batch_size = 1 #@param {type:\"integer\"}\n",
        "num_steps = 500 #@param {type:\"integer\"}\n",
        "fp16 = True #@param {type:\"boolean\"}\n",
        "gradient_accumulation = 4 #@param {type:\"integer\"}\n",
        "lr = 1e-4 #@param {type:\"number\"}\n",
        "\n",
        "!autotrain dreambooth \\\n",
        "--model stabilityai/stable-diffusion-xl-base-1.0 \\\n",
        "--output output/ \\\n",
        "--image-path /content/pictures \\\n",
        "--prompt \"{prompt}\" \\\n",
        "--resolution {resolution} \\\n",
        "--batch-size {batch_size} \\\n",
        "--num-steps {num_steps} \\\n",
        "--fp16 {fp16} \\\n",
        "--gradient-accumulation {gradient_accumulation} \\\n",
        "--lr {lr}"
      ],
      "metadata": {
        "id": "p2FHM6w8XvJV",
        "cellView": "form"
      },
      "execution_count": null,
      "outputs": []
    }
  ]
}